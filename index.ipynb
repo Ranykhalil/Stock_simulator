{
 "cells": [
  {
   "cell_type": "code",
   "execution_count": 1,
   "metadata": {},
   "outputs": [],
   "source": [
    "# !pip3 install keyboard\n",
    "# !pip3 install mplfinance\n",
    "# !pip3 install ipywidgets\n",
    "# !jupyter nbextension enable --py widgetsnbextension\n",
    "\n",
    "# jupyter labextension install @jupyter-widgets/jupyterlab-manager (FOR JUPYTER LAB)\n",
    "\n",
    "# !pip3 install bqplot\n",
    "\n",
    "# $ git clone https://github.com/bloomberg/bqplot.git\n",
    "# $ cd bqplot\n",
    "# $ pip install -e .\n",
    "# $ jupyter nbextension install --py --symlink --sys-prefix bqplot\n",
    "# $ jupyter nbextension enable --py --sys-prefix bqplot"
   ]
  },
  {
   "cell_type": "markdown",
   "metadata": {},
   "source": [
    "how fast slider (0.2-6hr/s)\n",
    "initial_dollar\n",
    "initial bitcoin\n",
    "start time\n",
    "trade size \n",
    "commission\n",
    "slippage = (rand 0-2)"
   ]
  },
  {
   "cell_type": "code",
   "execution_count": 2,
   "metadata": {},
   "outputs": [
    {
     "data": {
      "application/vnd.jupyter.widget-view+json": {
       "model_id": "fd3430d0b46a4a11b5fbb403d0bd86f7",
       "version_major": 2,
       "version_minor": 0
      },
      "text/plain": [
       "FloatText(value=4.0)"
      ]
     },
     "metadata": {},
     "output_type": "display_data"
    },
    {
     "name": "stdout",
     "output_type": "stream",
     "text": [
      "4.0\n"
     ]
    }
   ],
   "source": [
    "# some handy functions to use along widgets\n",
    "from IPython.display import display, Markdown, clear_output\n",
    "# widget packages\n",
    "import ipywidgets as widgets\n",
    "# defining some widgets\n",
    "text = widgets.Text(\n",
    "       value='My Text',\n",
    "       description='Title', )\n",
    "calendar = widgets.DatePicker(\n",
    "           description='Select Date')\n",
    "slider = widgets.FloatSlider(value=1, min=0.2, max=6.1,\n",
    "                             description = 'Speed(h/s)',step=0.1,)\n",
    "menu = widgets.Dropdown(\n",
    "       options=['Bitcoin', 'Ethereum', 'Litecoin'],\n",
    "       value='Bitcoin',\n",
    "       description='Crypto Coin:')\n",
    "checkbox = widgets.Checkbox(\n",
    "           description='Check to invert',)\n",
    "\n",
    "\n",
    "\n",
    "a = widgets.FloatText(4)\n",
    "\n",
    "\n",
    "display(a)\n",
    "print(a.value)"
   ]
  },
  {
   "cell_type": "code",
   "execution_count": 3,
   "metadata": {},
   "outputs": [
    {
     "name": "stdout",
     "output_type": "stream",
     "text": [
      "Widget text has value My Text, of <class 'str'>\n",
      "Widget checkbox has value False, of <class 'bool'>\n",
      "Widget calendar has value None, of <class 'NoneType'>\n"
     ]
    }
   ],
   "source": [
    "# current value of text, checkbox and calendar \n",
    "print('Widget text has value {}, of {}'.format(text.value, type(text.value)))\n",
    "print('Widget checkbox has value {}, of {}'.format(checkbox.value, type(checkbox.value)))\n",
    "print('Widget calendar has value {}, of {}'.format(calendar.value, type(calendar.value)))"
   ]
  },
  {
   "cell_type": "code",
   "execution_count": 4,
   "metadata": {},
   "outputs": [
    {
     "data": {
      "application/vnd.jupyter.widget-view+json": {
       "model_id": "680a46cb60554183a7e931a2307a8ca0",
       "version_major": 2,
       "version_minor": 0
      },
      "text/plain": [
       "Output()"
      ]
     },
     "metadata": {},
     "output_type": "display_data"
    }
   ],
   "source": [
    "from IPython.display import Markdown\n",
    "# Using output to display Markdown\n",
    "markdown_out = widgets.Output()\n",
    "with markdown_out:\n",
    "    display(Markdown('Slider value is ${}$'.format(slider.value)))\n",
    "markdown_out"
   ]
  },
  {
   "cell_type": "code",
   "execution_count": 5,
   "metadata": {},
   "outputs": [],
   "source": [
    "import pandas as pd\n",
    "import numpy as np\n",
    "# from matplotlib import pyplot as plt\n",
    "import mplfinance as mpf\n",
    "# %matplotlib inline  \n",
    "from datetime import datetime\n",
    "import time\n",
    "from IPython.display import clear_output\n",
    "# from ipywidgets import slider\n",
    "df = pd.read_csv('BTC-USD_60_1583798400_720d_N60.csv')\n",
    "\n",
    "\n",
    "ohlcv = df.loc[:, ['time', 'open', 'high', 'low', 'close', 'volume']]\n",
    "\n",
    "\n",
    "ohlcv.set_index('time', inplace=True)\n",
    "ohlcv.index = pd.to_datetime(ohlcv.index, unit = 's')\n",
    "\n",
    "ohlcv.columns = ohlcv.columns.map(lambda x: x.capitalize())"
   ]
  },
  {
   "cell_type": "code",
   "execution_count": 65,
   "metadata": {},
   "outputs": [
    {
     "name": "stdout",
     "output_type": "stream",
     "text": [
      "0.0034999999999999996\n"
     ]
    }
   ],
   "source": [
    "commission = .35/100\n",
    "\n",
    "trade_history = dict()\n",
    "net_worths = list()\n",
    "\n",
    "\n",
    "\n",
    "balance_btc = 0\n",
    "balance_usd = 3000\n",
    "currstep = 0\n",
    "trade_amount = 0.1\n",
    "\n",
    "commission_widg =  widgets.FloatSlider(value=0.35, min=0.05, max=0.50,\n",
    "                             description = 'Comm.(/100)',step=0.001,)\n",
    "usd_balance_widg =  widgets.FloatSlider(value=3000, min=100, max=50000,\n",
    "                                        description = 'USD_Balance',step=50)\n",
    "\n",
    "\n",
    "\n",
    "\n",
    "\n",
    "\n",
    "\n",
    "commission = float(commission_widg.value / 100)\n",
    "test = widgets.Label(value= str(commission))\n",
    "\n",
    "\n",
    "\n",
    "balance_usd = usd_balance_widg.value\n",
    "\n",
    "trade_history = dict()\n",
    "net_worths = list()\n",
    "\n",
    "balance_btc = 0\n",
    "balance_usd = 3000\n",
    "currstep = 0\n",
    "trade_amount = 0.1\n",
    "\n",
    "\n",
    "\n",
    "print(commission)\n",
    "\n",
    "from ipywidgets import AppLayout\n",
    "AppLayout(\n",
    "\n",
    "#             footer=widgets.VBox([buy_button,sell_button,out]),\n",
    "           footer=widgets.VBox([menu,commission_widg,test,usd_balance_widg])\n",
    "\n",
    ",\n",
    " #           footer=out,\n",
    "           pane_widths=['80px', 1, 1],\n",
    "           pane_heights=['80px', 4, 1],\n",
    "           height='60px',\n",
    "           grid_gap=\"30px\")\n",
    "\n",
    "\n",
    "\n",
    "\n",
    "\n",
    "def price():\n",
    "    global currstep\n",
    "    return ohlcv['Open'][currstep]\n",
    "    \n",
    "    \n",
    "def net_worth():\n",
    "    global balance_usd, balance_btc, currstep\n",
    "    return balance_usd + (balance_btc * price() * (1 - commission))\n",
    "\n",
    "def buy():\n",
    "    global balance_btc, balance_usd, currstep, trade_amount\n",
    "    btc_value = trade_amount * price()\n",
    "    btc_cost = btc_value * (1 + commission)\n",
    "    if balance_usd >= btc_cost:\n",
    "        balance_usd -= btc_cost\n",
    "        balance_btc += trade_amount\n",
    "        trade_history.update({currstep : 'buy'})\n",
    "        return True\n",
    "        \n",
    "def sell():\n",
    "    global balance_btc, balance_usd, currstep, trade_amount\n",
    "    btc_value = trade_amount * price()\n",
    "    if balance_btc >= trade_amount:\n",
    "        balance_usd += btc_value * (1 - commission) \n",
    "        balance_btc -= trade_amount\n",
    "        trade_history.update({currstep: \"sell\"})\n",
    "        return True\n",
    "    \n",
    "\n",
    "buy_button = widgets.Button(description='Buy')\n",
    "sell_button = widgets.Button(description='Sell')\n",
    "out = widgets.Output()\n",
    "def on_button_clicked(a):\n",
    "      # \"linking function with output\"\n",
    "    with out:\n",
    "        action = a.description.lower()\n",
    "        if action == 'buy':\n",
    "            clear_output()\n",
    "            if buy():\n",
    "                print('Bought at: {}'.format(price()))\n",
    "            else:\n",
    "                print('Not enough funds')\n",
    "        else:\n",
    "            clear_output()\n",
    "            if sell():\n",
    "                print('Sold at {}'.format(price()))\n",
    "            else:\n",
    "                print('Not enough funds')\n",
    "        print('Net Worth: {}'.format(net_worth()))\n",
    "              \n",
    "              \n",
    "\n",
    "\n",
    "buy_button.on_click(on_button_clicked)\n",
    "sell_button.on_click(on_button_clicked)\n"
   ]
  },
  {
   "cell_type": "code",
   "execution_count": 66,
   "metadata": {},
   "outputs": [
    {
     "name": "stdout",
     "output_type": "stream",
     "text": [
      "0.0034999999999999996\n"
     ]
    },
    {
     "data": {
      "application/vnd.jupyter.widget-view+json": {
       "model_id": "4d38c43d4552434b9fea03a6bf09f912",
       "version_major": 2,
       "version_minor": 0
      },
      "text/plain": [
       "AppLayout(children=(VBox(children=(Dropdown(description='Crypto Coin:', options=('Bitcoin', 'Ethereum', 'Litec…"
      ]
     },
     "metadata": {},
     "output_type": "display_data"
    }
   ],
   "source": [
    "test = widgets.Label(value= str(commission))\n",
    "\n",
    "\n",
    "commission = float(commission_widg.value / 100)\n",
    "\n",
    "balance_usd = usd_balance_widg.value\n",
    "\n",
    "trade_history = dict()\n",
    "net_worths = list()\n",
    "\n",
    "balance_btc = 0\n",
    "balance_usd = 3000\n",
    "currstep = 0\n",
    "trade_amount = 0.1\n",
    "\n",
    "\n",
    "\n",
    "print(commission)\n",
    "\n",
    "from ipywidgets import AppLayout\n",
    "AppLayout(\n",
    "\n",
    "#             footer=widgets.VBox([buy_button,sell_button,out]),\n",
    "           footer=widgets.VBox([menu,commission_widg,test,usd_balance_widg])\n",
    "\n",
    ",\n",
    " #           footer=out,\n",
    "           pane_widths=['80px', 1, 1],\n",
    "           pane_heights=['80px', 4, 1],\n",
    "           height='60px',\n",
    "           grid_gap=\"30px\")\n",
    "\n",
    "\n"
   ]
  },
  {
   "cell_type": "code",
   "execution_count": 70,
   "metadata": {},
   "outputs": [
    {
     "data": {
      "application/vnd.jupyter.widget-view+json": {
       "model_id": "650e1a6a1a9a4236ae2ed86b9c92ac9e",
       "version_major": 2,
       "version_minor": 0
      },
      "text/plain": [
       "AppLayout(children=(HBox(children=(VBox(children=(Button(description='Buy', style=ButtonStyle()), Button(descr…"
      ]
     },
     "metadata": {},
     "output_type": "display_data"
    }
   ],
   "source": [
    "\n",
    "currstep = 3000\n",
    "\n",
    "\n",
    "import bqplot as bq\n",
    "import bqplot.pyplot as plt\n",
    "\n",
    "\n",
    "ohlcv['OHLC'] =  ohlcv[['Open', 'High', 'Low', 'Close']].values.tolist()\n",
    "\n",
    "\n",
    "fig = plt.figure()\n",
    "dates = pd.to_datetime(ohlcv.index.map(lambda x: str(x)))\n",
    "\n",
    "# print(dates)\n",
    "# print(ohlcv['OHLC'].to_list())\n",
    "\n",
    "\n",
    "# axes_options = {'x': {'label': 'X'}, 'y': {'label': 'Y'}}\n",
    "ohlc1 = plt.ohlc(dates[currstep-100:currstep], ohlcv['OHLC'].to_list()[currstep-100:currstep], marker='candle', \n",
    "                 format='ohlc', stroke='black',stroke_width=1.5, colors=['#3f9', '#f93'])\n",
    "#                  axes_options=axes_options)\n",
    "\n",
    "\n",
    "\n",
    "import threading\n",
    "from IPython.display import display\n",
    "import ipywidgets as widgets\n",
    "import time\n",
    "\n",
    "\n",
    "stop_thread = False\n",
    "\n",
    "sleep_dur = 1\n",
    "step_size = 1\n",
    "\n",
    "info_widg = widgets.HTML(value= 'Net_Worth: <br>BTC held: <br>USD held:')\n",
    "\n",
    "\n",
    "def step():\n",
    "    global currstep\n",
    "    for i in range(len(ohlcv['OHLC'])-100):\n",
    "        if currstep+100 > 1+len(ohlcv) or stop_thread:\n",
    "            break\n",
    "        time.sleep(sleep_dur)\n",
    "        currstep+=step_size\n",
    "        net_worths.append(net_worth())\n",
    "        ohlc1.x = dates[currstep-100:currstep]\n",
    "        ohlc1.y = ohlcv['OHLC'].to_list()[currstep-100:currstep]\n",
    "        info_widg.value = 'Net_Worth: ' + str(round(net_worth(), 2)) +  '<br>BTC held: ' + str(round(balance_btc, 2)) +   '<br>USD held: ' + str(round(balance_usd, 2)) \n",
    "\n",
    "\n",
    "thread = threading.Thread(target=step)\n",
    "        \n",
    "\n",
    "stop_button = widgets.Button(description='Stop')\n",
    "reset_button = widgets.Button(description='Start')\n",
    "def stop_button_clicked(a):\n",
    "    global stop_thread\n",
    "    stop_thread = True\n",
    "            \n",
    "\n",
    "def reset_button_clicked(a):\n",
    "    global stop_thread, thread\n",
    "    global net_worths ,currstep, balance_btc, balance_usd \n",
    "\n",
    "    action = a.description.lower()\n",
    "    if action == 'reset':\n",
    "            stop_thread = True\n",
    "            net_worths = []\n",
    "            balance_btc = 0\n",
    "            balance_usd = 3000\n",
    "            currstep = 3000\n",
    "            info_widg.value = 'Net_Worth: 3000.00<br>BTC held: 0<br>USD held: 3000.00'\n",
    "            reset_button.description = \"Start\"\n",
    "    if action == 'start':\n",
    "            stop_thread = False\n",
    "            thread = threading.Thread(target=step)\n",
    "            thread.start()\n",
    "            reset_button.description = \"Reset\"\n",
    "\n",
    "            \n",
    "stop_button.on_click(stop_button_clicked)\n",
    "reset_button.on_click(reset_button_clicked)\n",
    "        \n",
    "\n",
    "\n",
    "# TODO: \n",
    "# shift-enter-ing causes multiple of these to run at the same time\n",
    "\n",
    "fig.background_style = {'fill': '#888'}\n",
    "\n",
    "\n",
    "from ipyleaflet import Map, basemaps, basemap_to_tiles, Heatmap, TileLayer\n",
    "from ipywidgets import AppLayout, HTML, Layout, Dropdown, Output, Textarea, VBox, Label\n",
    "import bqplot as bq\n",
    "import numpy as np\n",
    "from pandas import date_range\n",
    "\n",
    "from ipywidgets import Button, Layout, VBox, Label\n",
    "\n",
    "\n",
    "AppLayout(\n",
    "\n",
    "            footer=widgets.HBox([widgets.VBox([buy_button,sell_button]),widgets.VBox([info_widg]), widgets.VBox([stop_button,reset_button]), out]),\n",
    "           right_sidebar=fig,\n",
    " #           footer=out,\n",
    "           pane_widths=['80px', 1, 1],\n",
    "           pane_heights=['80px', 4, 1],\n",
    "           height='600px',\n",
    "           grid_gap=\"30px\")\n",
    "\n"
   ]
  },
  {
   "cell_type": "code",
   "execution_count": 73,
   "metadata": {},
   "outputs": [
    {
     "data": {
      "text/plain": [
       "[<matplotlib.lines.Line2D at 0x11fdcc550>]"
      ]
     },
     "execution_count": 73,
     "metadata": {},
     "output_type": "execute_result"
    },
    {
     "data": {
      "image/png": "[encoded data removed]",
      "text/plain": [
       "<Figure size 432x288 with 1 Axes>"
      ]
     },
     "metadata": {
      "needs_background": "light"
     },
     "output_type": "display_data"
    }
   ],
   "source": [
    "import matplotlib.pyplot as plt\n",
    "\n",
    "plt.plot(list(range(0,len(net_worths))),net_worths)\n",
    "\n"
   ]
  },
  {
   "cell_type": "code",
   "execution_count": null,
   "metadata": {},
   "outputs": [],
   "source": []
  },
  {
   "cell_type": "code",
   "execution_count": null,
   "metadata": {},
   "outputs": [],
   "source": []
  },
  {
   "cell_type": "code",
   "execution_count": null,
   "metadata": {},
   "outputs": [],
   "source": []
  },
  {
   "cell_type": "code",
   "execution_count": null,
   "metadata": {},
   "outputs": [],
   "source": []
  },
  {
   "cell_type": "code",
   "execution_count": null,
   "metadata": {},
   "outputs": [],
   "source": []
  },
  {
   "cell_type": "code",
   "execution_count": null,
   "metadata": {},
   "outputs": [],
   "source": []
  },
  {
   "cell_type": "code",
   "execution_count": null,
   "metadata": {},
   "outputs": [],
   "source": [
    "a = input()\n",
    "print(a)\n"
   ]
  },
  {
   "cell_type": "code",
   "execution_count": null,
   "metadata": {},
   "outputs": [],
   "source": []
  }
 ],
 "metadata": {
  "kernelspec": {
   "display_name": "Python 3",
   "language": "python",
   "name": "python3"
  },
  "language_info": {
   "codemirror_mode": {
    "name": "ipython",
    "version": 3
   },
   "file_extension": ".py",
   "mimetype": "text/x-python",
   "name": "python",
   "nbconvert_exporter": "python",
   "pygments_lexer": "ipython3",
   "version": "3.7.4"
  }
 },
 "nbformat": 4,
 "nbformat_minor": 2
}
